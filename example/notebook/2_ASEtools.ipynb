{
 "cells": [
  {
   "cell_type": "code",
   "execution_count": 2,
   "metadata": {},
   "outputs": [],
   "source": [
    "from phdtools.ASEtools import asetools as at"
   ]
  },
  {
   "attachments": {},
   "cell_type": "markdown",
   "metadata": {},
   "source": [
    "# ASE tools for handling trajs"
   ]
  },
  {
   "cell_type": "markdown",
   "metadata": {},
   "source": [
    "We will use this small trajectory of Li-ion electrolytes as a tutorial.\n",
    "This example showcases some key functionalities of the pkg."
   ]
  },
  {
   "cell_type": "code",
   "execution_count": 3,
   "metadata": {},
   "outputs": [
    {
     "name": "stdout",
     "output_type": "stream",
     "text": [
      "traj_2.1_0-100-1.xyz\n"
     ]
    }
   ],
   "source": [
    "!ls ../data/"
   ]
  },
  {
   "cell_type": "markdown",
   "metadata": {},
   "source": [
    "### _Blind_ Universe definition\n",
    "\n",
    "The _blind_ means that we do not set any project specific variables, but only the minimum required to init the ASE Universe."
   ]
  },
  {
   "cell_type": "code",
   "execution_count": 4,
   "metadata": {},
   "outputs": [],
   "source": [
    "blind_project_dict = dict(\n",
    "    projectName = \"example_1_LiElectrolytes\",\n",
    "    trajPath = \"../data/traj_2.1_0-100-1.xyz\",\n",
    ")"
   ]
  },
  {
   "cell_type": "code",
   "execution_count": 5,
   "metadata": {},
   "outputs": [
    {
     "name": "stdout",
     "output_type": "stream",
     "text": [
      "Gathering the Universe ...\n",
      "\n"
     ]
    },
    {
     "name": "stdout",
     "output_type": "stream",
     "text": [
      "Total atoms: 8402\n",
      "Atom types: ['C' 'F' 'H' 'Li' 'O' 'P']\n",
      "\n",
      "!!! Warning: `rcutCorrection` not set !!!\n",
      "Default values will be used, this might cause artifacts in the molecules detection.\n",
      "rcutCorrection = {'C': 1.0, 'F': 1.0, 'H': 1.0, 'Li': 1.0, 'O': 1.0, 'P': 1.0}\n",
      "\n",
      "Searching for molecules in the system ...\n",
      "\n",
      "!!! Warning: `moleculeNames` not set !!!\n",
      "Default molecules names will be used\n",
      "\n",
      "Uniques molecules found: 29\n",
      "Molecules found: {'C10H16F6LiO9P': 'mol1', 'C11H20F6LiO9P': 'mol2', 'C11H20LiO9': 'mol3', 'C12H24F6LiO9P': 'mol4', 'C13H20LiO12': 'mol5', 'C14H24F12Li2O12P2': 'mol6', 'C14H24F18Li2O12P3': 'mol7', 'C14H24F6LiO12P': 'mol8', 'C14H24LiO12': 'mol9', 'C15H28F12Li2O12P2': 'mol10', 'C15H28F6LiO12P': 'mol11', 'C15H28LiO12': 'mol12', 'C16H32F12Li2O12P2': 'mol13', 'C16H32LiO12': 'mol14', 'C18H32F12Li2O15P2': 'mol15', 'C19H36F12Li2O15P2': 'mol16', 'C20H40F12Li2O15P2': 'mol17', 'C20H40F18Li2O15P3': 'mol18', 'C20H40F24Li3O15P4': 'mol19', 'C21H36F6Li2O18P': 'mol20', 'C22H40F6Li2O18P': 'mol21', 'C23H44F6Li2O18P': 'mol22', 'C24H48F6Li2O18P': 'mol23', 'C26H48F18Li3O21P3': 'mol24', 'C3H4O3': 'mol25', 'C4H8O3': 'mol26', 'C7H12F6LiO6P': 'mol27', 'C8H16F12LiO6P2': 'mol28', 'F6P': 'mol29'}\n",
      "1.4453s\n",
      "\n",
      "Computing MolIDs ...\n",
      "1.2738s\n",
      "\n",
      "Computing MolSymbols ...\n",
      "Total numner of molecules: 322\n",
      "0.0221s\n",
      "\n",
      "<end>\n",
      "2.9508s\n",
      "\n"
     ]
    }
   ],
   "source": [
    "blind_universe = at.Universe(**blind_project_dict)"
   ]
  },
  {
   "cell_type": "markdown",
   "metadata": {},
   "source": [
    "In this case since we did not set the `rcutCorrection` it caused some artifacts in the molecule detection: some solevation shells are considered as whole molecules.\n",
    "This is not convenient if we want to follow the Li during the trajectory, as the definition of the molecules changes constantly during the atoms evolution."
   ]
  },
  {
   "cell_type": "code",
   "execution_count": 6,
   "metadata": {},
   "outputs": [
    {
     "name": "stdout",
     "output_type": "stream",
     "text": [
      "Default: {'C': 1.0, 'F': 1.0, 'H': 1.0, 'Li': 1.0, 'O': 1.0, 'P': 1.0}\n"
     ]
    }
   ],
   "source": [
    "print(f\"Default: {blind_universe.rcutCorrection}\")"
   ]
  },
  {
   "cell_type": "markdown",
   "metadata": {},
   "source": [
    "To solve the problem we need to define a tailored `rcutCorrection` and repeat the init of the Universe."
   ]
  },
  {
   "cell_type": "code",
   "execution_count": 7,
   "metadata": {},
   "outputs": [],
   "source": [
    "rcut_dict = {'H': 1.0, 'C': 1.0, 'O': 1.0, 'Li': 0.1, 'P': 1.0, 'F': 1.0}"
   ]
  },
  {
   "cell_type": "code",
   "execution_count": 8,
   "metadata": {},
   "outputs": [
    {
     "name": "stdout",
     "output_type": "stream",
     "text": [
      "Updated rcutCorrection = {'H': 1.0, 'C': 1.0, 'O': 1.0, 'Li': 0.1, 'P': 1.0, 'F': 1.0}\n",
      "\n",
      "Modified: {'H': 1.0, 'C': 1.0, 'O': 1.0, 'Li': 0.1, 'P': 1.0, 'F': 1.0}\n"
     ]
    }
   ],
   "source": [
    "blind_universe.set_rcut_correction(rcut_dict=rcut_dict)\n",
    "print(f\"Modified: {blind_universe.rcutCorrection}\")"
   ]
  },
  {
   "cell_type": "code",
   "execution_count": 9,
   "metadata": {},
   "outputs": [
    {
     "name": "stdout",
     "output_type": "stream",
     "text": [
      "Uniques molecules found: 4\n",
      "Molecules found: {'C3H4O3': 'mol1', 'C4H8O3': 'mol2', 'F6P': 'mol3', 'Li': 'mol4'}\n",
      "1.4265s\n",
      "\n",
      "Default molecule names: ['mol1', 'mol2', 'mol3', 'mol4']\n"
     ]
    }
   ],
   "source": [
    "blind_universe.find_molecs(mol_name=None)\n",
    "print(f\"Default molecule names: {blind_universe.moleculeNames}\")"
   ]
  },
  {
   "cell_type": "markdown",
   "metadata": {},
   "source": [
    "By default `find_molecs()` uses standard numbered names \"molXXX\" to address the molecules, but these can be specified as well."
   ]
  },
  {
   "cell_type": "code",
   "execution_count": 10,
   "metadata": {},
   "outputs": [
    {
     "name": "stdout",
     "output_type": "stream",
     "text": [
      "Renamed molecules: {'C3H4O3': 'EC', 'C4H8O3': 'EMC', 'F6P': 'PF6', 'Li': 'Li'}\n",
      "['EC', 'EMC', 'PF6', 'Li']\n"
     ]
    }
   ],
   "source": [
    "mol_names_list = ['EC', 'EMC', 'PF6', 'Li']\n",
    "\n",
    "blind_universe.set_mol_names(mol_name=mol_names_list)\n",
    "print(f\"Renamed molecules: {blind_universe.moleculeFormulas}\\n\"\n",
    "      f\"{blind_universe.moleculeNames}\")"
   ]
  },
  {
   "cell_type": "markdown",
   "metadata": {},
   "source": [
    "Alternatively it is possible to define them directly in the `find_molecs()` function."
   ]
  },
  {
   "cell_type": "code",
   "execution_count": 11,
   "metadata": {},
   "outputs": [
    {
     "name": "stdout",
     "output_type": "stream",
     "text": [
      "Uniques molecules found: 4\n",
      "Molecules found: {'C3H4O3': 'EC', 'C4H8O3': 'EMC', 'F6P': 'PF6', 'Li': 'Li'}\n",
      "1.4533s\n",
      "\n",
      "Molecules names: {'C3H4O3': 'EC', 'C4H8O3': 'EMC', 'F6P': 'PF6', 'Li': 'Li'}\n",
      "['EC', 'EMC', 'PF6', 'Li']\n"
     ]
    }
   ],
   "source": [
    "blind_universe.find_molecs(mol_name=mol_names_list)\n",
    "print(f\"Molecules names: {blind_universe.moleculeFormulas}\\n\"\n",
    "      f\"{blind_universe.moleculeNames}\")"
   ]
  },
  {
   "cell_type": "markdown",
   "metadata": {},
   "source": [
    "### _Complete_ Universe definition\n",
    "\n",
    "The _complete_ means that we do set any project specific variables when init the ASE Universe."
   ]
  },
  {
   "cell_type": "code",
   "execution_count": 12,
   "metadata": {},
   "outputs": [],
   "source": [
    "complete_project_dict = dict(\n",
    "    projectName = \"example_1_LiElectrolytes\",\n",
    "    trajPath = \"../data/traj_2.1_0-100-1.xyz\",\n",
    "    rcutCorrection = rcut_dict,\n",
    "    moleculeNames = mol_names_list\n",
    ")"
   ]
  },
  {
   "cell_type": "code",
   "execution_count": 13,
   "metadata": {},
   "outputs": [
    {
     "name": "stdout",
     "output_type": "stream",
     "text": [
      "Gathering the Universe ...\n",
      "\n",
      "Total atoms: 8402\n",
      "Atom types: ['C' 'F' 'H' 'Li' 'O' 'P']\n",
      "\n",
      "rcut correction: {'H': 1.0, 'C': 1.0, 'O': 1.0, 'Li': 0.1, 'P': 1.0, 'F': 1.0}\n",
      "\n",
      "Searching for molecules in the system ...\n",
      "\n",
      "['EC', 'EMC', 'PF6', 'Li']\n",
      "Uniques molecules found: 4\n",
      "Molecules found: {'C3H4O3': 'EC', 'C4H8O3': 'EMC', 'F6P': 'PF6', 'Li': 'Li'}\n",
      "1.2648s\n",
      "\n",
      "Computing MolIDs ...\n",
      "1.3113s\n",
      "\n",
      "Computing MolSymbols ...\n",
      "Total numner of molecules: 777\n",
      "0.0489s\n",
      "\n",
      "<end>\n",
      "2.7684s\n",
      "\n"
     ]
    }
   ],
   "source": [
    "complete_universe = at.Universe(**complete_project_dict)"
   ]
  },
  {
   "cell_type": "code",
   "execution_count": 14,
   "metadata": {},
   "outputs": [
    {
     "data": {
      "text/plain": [
       "{'projectName': 'example_1_LiElectrolytes',\n",
       " 'trajPath': '../data/traj_2.1_0-100-1.xyz',\n",
       " 'rcutCorrection': {'H': 1.0,\n",
       "  'C': 1.0,\n",
       "  'O': 1.0,\n",
       "  'Li': 0.1,\n",
       "  'P': 1.0,\n",
       "  'F': 1.0},\n",
       " 'moleculeNames': ['EC', 'EMC', 'PF6', 'Li'],\n",
       " 'moleculeFormulas': {'C3H4O3': 'EC',\n",
       "  'C4H8O3': 'EMC',\n",
       "  'F6P': 'PF6',\n",
       "  'Li': 'Li'},\n",
       " 'molIDs': array([  0,   0,   0, ..., 774, 775, 776], dtype=int32),\n",
       " 'molSym': ['EC',\n",
       "  'EC',\n",
       "  'EC',\n",
       "  'EC',\n",
       "  'EC',\n",
       "  'EC',\n",
       "  'EC',\n",
       "  'EC',\n",
       "  'EC',\n",
       "  'EC',\n",
       "  'EC',\n",
       "  'EC',\n",
       "  'EC',\n",
       "  'EC',\n",
       "  'EC',\n",
       "  'EC',\n",
       "  'EC',\n",
       "  'EC',\n",
       "  'EC',\n",
       "  'EC',\n",
       "  'EC',\n",
       "  'EC',\n",
       "  'EC',\n",
       "  'EC',\n",
       "  'EC',\n",
       "  'EC',\n",
       "  'EC',\n",
       "  'EC',\n",
       "  'EC',\n",
       "  'EC',\n",
       "  'EC',\n",
       "  'EC',\n",
       "  'EC',\n",
       "  'EC',\n",
       "  'EC',\n",
       "  'EC',\n",
       "  'EC',\n",
       "  'EC',\n",
       "  'EC',\n",
       "  'EC',\n",
       "  'EC',\n",
       "  'EC',\n",
       "  'EC',\n",
       "  'EC',\n",
       "  'EC',\n",
       "  'EC',\n",
       "  'EC',\n",
       "  'EC',\n",
       "  'EC',\n",
       "  'EC',\n",
       "  'EC',\n",
       "  'EC',\n",
       "  'EC',\n",
       "  'EC',\n",
       "  'EC',\n",
       "  'EC',\n",
       "  'EC',\n",
       "  'EC',\n",
       "  'EC',\n",
       "  'EC',\n",
       "  'EC',\n",
       "  'EC',\n",
       "  'EC',\n",
       "  'EC',\n",
       "  'EC',\n",
       "  'EC',\n",
       "  'EC',\n",
       "  'EC',\n",
       "  'EC',\n",
       "  'EC',\n",
       "  'EC',\n",
       "  'EC',\n",
       "  'EC',\n",
       "  'EC',\n",
       "  'EC',\n",
       "  'EC',\n",
       "  'EC',\n",
       "  'EC',\n",
       "  'EC',\n",
       "  'EC',\n",
       "  'EC',\n",
       "  'EC',\n",
       "  'EC',\n",
       "  'EC',\n",
       "  'EC',\n",
       "  'EC',\n",
       "  'EC',\n",
       "  'EC',\n",
       "  'EC',\n",
       "  'EC',\n",
       "  'EC',\n",
       "  'EC',\n",
       "  'EC',\n",
       "  'EC',\n",
       "  'EC',\n",
       "  'EC',\n",
       "  'EC',\n",
       "  'EC',\n",
       "  'EC',\n",
       "  'EC',\n",
       "  'EC',\n",
       "  'EC',\n",
       "  'EC',\n",
       "  'EC',\n",
       "  'EC',\n",
       "  'EC',\n",
       "  'EC',\n",
       "  'EC',\n",
       "  'EC',\n",
       "  'EC',\n",
       "  'EC',\n",
       "  'EC',\n",
       "  'EC',\n",
       "  'EC',\n",
       "  'EC',\n",
       "  'EC',\n",
       "  'EC',\n",
       "  'EC',\n",
       "  'EC',\n",
       "  'EC',\n",
       "  'EC',\n",
       "  'EC',\n",
       "  'EC',\n",
       "  'EC',\n",
       "  'EC',\n",
       "  'EC',\n",
       "  'EC',\n",
       "  'EC',\n",
       "  'EC',\n",
       "  'EC',\n",
       "  'EC',\n",
       "  'EC',\n",
       "  'EC',\n",
       "  'EC',\n",
       "  'EC',\n",
       "  'EC',\n",
       "  'EC',\n",
       "  'EC',\n",
       "  'EC',\n",
       "  'EC',\n",
       "  'EC',\n",
       "  'EC',\n",
       "  'EC',\n",
       "  'EC',\n",
       "  'EC',\n",
       "  'EC',\n",
       "  'EC',\n",
       "  'EC',\n",
       "  'EC',\n",
       "  'EMC',\n",
       "  'EMC',\n",
       "  'EMC',\n",
       "  'EMC',\n",
       "  'EMC',\n",
       "  'EMC',\n",
       "  'EMC',\n",
       "  'EMC',\n",
       "  'EMC',\n",
       "  'EMC',\n",
       "  'EMC',\n",
       "  'EMC',\n",
       "  'EMC',\n",
       "  'EMC',\n",
       "  'EMC',\n",
       "  'EMC',\n",
       "  'EMC',\n",
       "  'EMC',\n",
       "  'EMC',\n",
       "  'EMC',\n",
       "  'EMC',\n",
       "  'EMC',\n",
       "  'EMC',\n",
       "  'EMC',\n",
       "  'EMC',\n",
       "  'EMC',\n",
       "  'EMC',\n",
       "  'EMC',\n",
       "  'EMC',\n",
       "  'EMC',\n",
       "  'EMC',\n",
       "  'EMC',\n",
       "  'EMC',\n",
       "  'EMC',\n",
       "  'EMC',\n",
       "  'EMC',\n",
       "  'EMC',\n",
       "  'EMC',\n",
       "  'EMC',\n",
       "  'EMC',\n",
       "  'EMC',\n",
       "  'EMC',\n",
       "  'EMC',\n",
       "  'EMC',\n",
       "  'EMC',\n",
       "  'EMC',\n",
       "  'EMC',\n",
       "  'EMC',\n",
       "  'EMC',\n",
       "  'EMC',\n",
       "  'EMC',\n",
       "  'EMC',\n",
       "  'EMC',\n",
       "  'EMC',\n",
       "  'EMC',\n",
       "  'EMC',\n",
       "  'EMC',\n",
       "  'EMC',\n",
       "  'EMC',\n",
       "  'EMC',\n",
       "  'EMC',\n",
       "  'EMC',\n",
       "  'EMC',\n",
       "  'EMC',\n",
       "  'EMC',\n",
       "  'EMC',\n",
       "  'EMC',\n",
       "  'EMC',\n",
       "  'EMC',\n",
       "  'EMC',\n",
       "  'EMC',\n",
       "  'EMC',\n",
       "  'EMC',\n",
       "  'EMC',\n",
       "  'EMC',\n",
       "  'EMC',\n",
       "  'EMC',\n",
       "  'EMC',\n",
       "  'EMC',\n",
       "  'EMC',\n",
       "  'EMC',\n",
       "  'EMC',\n",
       "  'EMC',\n",
       "  'EMC',\n",
       "  'EMC',\n",
       "  'EMC',\n",
       "  'EMC',\n",
       "  'EMC',\n",
       "  'EMC',\n",
       "  'EMC',\n",
       "  'EMC',\n",
       "  'EMC',\n",
       "  'EMC',\n",
       "  'EMC',\n",
       "  'EMC',\n",
       "  'EMC',\n",
       "  'EMC',\n",
       "  'EMC',\n",
       "  'EMC',\n",
       "  'EMC',\n",
       "  'EMC',\n",
       "  'EMC',\n",
       "  'EMC',\n",
       "  'EMC',\n",
       "  'EMC',\n",
       "  'EMC',\n",
       "  'EMC',\n",
       "  'EMC',\n",
       "  'EMC',\n",
       "  'EMC',\n",
       "  'EMC',\n",
       "  'EMC',\n",
       "  'EMC',\n",
       "  'EMC',\n",
       "  'EMC',\n",
       "  'EMC',\n",
       "  'EMC',\n",
       "  'EMC',\n",
       "  'EMC',\n",
       "  'EMC',\n",
       "  'EMC',\n",
       "  'EMC',\n",
       "  'EMC',\n",
       "  'EMC',\n",
       "  'EMC',\n",
       "  'EMC',\n",
       "  'EMC',\n",
       "  'EMC',\n",
       "  'EMC',\n",
       "  'EMC',\n",
       "  'EMC',\n",
       "  'EMC',\n",
       "  'EMC',\n",
       "  'EMC',\n",
       "  'EMC',\n",
       "  'EMC',\n",
       "  'EMC',\n",
       "  'EMC',\n",
       "  'EMC',\n",
       "  'EMC',\n",
       "  'EMC',\n",
       "  'EMC',\n",
       "  'EMC',\n",
       "  'EMC',\n",
       "  'EMC',\n",
       "  'EMC',\n",
       "  'EMC',\n",
       "  'EMC',\n",
       "  'EMC',\n",
       "  'EMC',\n",
       "  'EMC',\n",
       "  'EMC',\n",
       "  'EMC',\n",
       "  'EMC',\n",
       "  'EMC',\n",
       "  'EMC',\n",
       "  'EMC',\n",
       "  'EMC',\n",
       "  'EMC',\n",
       "  'EMC',\n",
       "  'EMC',\n",
       "  'EMC',\n",
       "  'EMC',\n",
       "  'EMC',\n",
       "  'EMC',\n",
       "  'EMC',\n",
       "  'EMC',\n",
       "  'EMC',\n",
       "  'EMC',\n",
       "  'EMC',\n",
       "  'EMC',\n",
       "  'EMC',\n",
       "  'EMC',\n",
       "  'EMC',\n",
       "  'EMC',\n",
       "  'EMC',\n",
       "  'EMC',\n",
       "  'EMC',\n",
       "  'EMC',\n",
       "  'EMC',\n",
       "  'EMC',\n",
       "  'EMC',\n",
       "  'EMC',\n",
       "  'EMC',\n",
       "  'EMC',\n",
       "  'EMC',\n",
       "  'EMC',\n",
       "  'EMC',\n",
       "  'EMC',\n",
       "  'EMC',\n",
       "  'EMC',\n",
       "  'EMC',\n",
       "  'EMC',\n",
       "  'EMC',\n",
       "  'EMC',\n",
       "  'EMC',\n",
       "  'EMC',\n",
       "  'EMC',\n",
       "  'EMC',\n",
       "  'EMC',\n",
       "  'EMC',\n",
       "  'EMC',\n",
       "  'EMC',\n",
       "  'EMC',\n",
       "  'EMC',\n",
       "  'EMC',\n",
       "  'EMC',\n",
       "  'EMC',\n",
       "  'EMC',\n",
       "  'EMC',\n",
       "  'EMC',\n",
       "  'EMC',\n",
       "  'EMC',\n",
       "  'EMC',\n",
       "  'EMC',\n",
       "  'EMC',\n",
       "  'EMC',\n",
       "  'EMC',\n",
       "  'EMC',\n",
       "  'EMC',\n",
       "  'EMC',\n",
       "  'EMC',\n",
       "  'EMC',\n",
       "  'EMC',\n",
       "  'EMC',\n",
       "  'EMC',\n",
       "  'EMC',\n",
       "  'EMC',\n",
       "  'EMC',\n",
       "  'EMC',\n",
       "  'EMC',\n",
       "  'EMC',\n",
       "  'EMC',\n",
       "  'EMC',\n",
       "  'EMC',\n",
       "  'EMC',\n",
       "  'EMC',\n",
       "  'EMC',\n",
       "  'EMC',\n",
       "  'EMC',\n",
       "  'EMC',\n",
       "  'EMC',\n",
       "  'EMC',\n",
       "  'EMC',\n",
       "  'EMC',\n",
       "  'EMC',\n",
       "  'EMC',\n",
       "  'EMC',\n",
       "  'EMC',\n",
       "  'EMC',\n",
       "  'EMC',\n",
       "  'EMC',\n",
       "  'EMC',\n",
       "  'EMC',\n",
       "  'EMC',\n",
       "  'EMC',\n",
       "  'EMC',\n",
       "  'EMC',\n",
       "  'EMC',\n",
       "  'EMC',\n",
       "  'EMC',\n",
       "  'EMC',\n",
       "  'EMC',\n",
       "  'EMC',\n",
       "  'EMC',\n",
       "  'EMC',\n",
       "  'EMC',\n",
       "  'EMC',\n",
       "  'EMC',\n",
       "  'EMC',\n",
       "  'EMC',\n",
       "  'EMC',\n",
       "  'EMC',\n",
       "  'EMC',\n",
       "  'EMC',\n",
       "  'EMC',\n",
       "  'EMC',\n",
       "  'EMC',\n",
       "  'EMC',\n",
       "  'EMC',\n",
       "  'EMC',\n",
       "  'EMC',\n",
       "  'EMC',\n",
       "  'EMC',\n",
       "  'EMC',\n",
       "  'EMC',\n",
       "  'EMC',\n",
       "  'EMC',\n",
       "  'EMC',\n",
       "  'EMC',\n",
       "  'EMC',\n",
       "  'EMC',\n",
       "  'EMC',\n",
       "  'EMC',\n",
       "  'EMC',\n",
       "  'EMC',\n",
       "  'EMC',\n",
       "  'EMC',\n",
       "  'EMC',\n",
       "  'EMC',\n",
       "  'EMC',\n",
       "  'EMC',\n",
       "  'EMC',\n",
       "  'EMC',\n",
       "  'EMC',\n",
       "  'EMC',\n",
       "  'EMC',\n",
       "  'EMC',\n",
       "  'EMC',\n",
       "  'EMC',\n",
       "  'EMC',\n",
       "  'EMC',\n",
       "  'EMC',\n",
       "  'EMC',\n",
       "  'EMC',\n",
       "  'EMC',\n",
       "  'EMC',\n",
       "  'EMC',\n",
       "  'EMC',\n",
       "  'EMC',\n",
       "  'EMC',\n",
       "  'EMC',\n",
       "  'EMC',\n",
       "  'EMC',\n",
       "  'EMC',\n",
       "  'EMC',\n",
       "  'EMC',\n",
       "  'EMC',\n",
       "  'EMC',\n",
       "  'EMC',\n",
       "  'EMC',\n",
       "  'EMC',\n",
       "  'EMC',\n",
       "  'EMC',\n",
       "  'EMC',\n",
       "  'EMC',\n",
       "  'EMC',\n",
       "  'EMC',\n",
       "  'EMC',\n",
       "  'EMC',\n",
       "  'EMC',\n",
       "  'EMC',\n",
       "  'EMC',\n",
       "  'EMC',\n",
       "  'EMC',\n",
       "  'EMC',\n",
       "  'EMC',\n",
       "  'EMC',\n",
       "  'EMC',\n",
       "  'EMC',\n",
       "  'EMC',\n",
       "  'EMC',\n",
       "  'EMC',\n",
       "  'EMC',\n",
       "  'EMC',\n",
       "  'EMC',\n",
       "  'EMC',\n",
       "  'EMC',\n",
       "  'EMC',\n",
       "  'EMC',\n",
       "  'EMC',\n",
       "  'EMC',\n",
       "  'EMC',\n",
       "  'EMC',\n",
       "  'EMC',\n",
       "  'EMC',\n",
       "  'EMC',\n",
       "  'EMC',\n",
       "  'EMC',\n",
       "  'EMC',\n",
       "  'EMC',\n",
       "  'EMC',\n",
       "  'EMC',\n",
       "  'EMC',\n",
       "  'EMC',\n",
       "  'EMC',\n",
       "  'EMC',\n",
       "  'EMC',\n",
       "  'EMC',\n",
       "  'EMC',\n",
       "  'EMC',\n",
       "  'EMC',\n",
       "  'EMC',\n",
       "  'EMC',\n",
       "  'EMC',\n",
       "  'EMC',\n",
       "  'EMC',\n",
       "  'EMC',\n",
       "  'EMC',\n",
       "  'EMC',\n",
       "  'EMC',\n",
       "  'EMC',\n",
       "  'EMC',\n",
       "  'EMC',\n",
       "  'EMC',\n",
       "  'EMC',\n",
       "  'EMC',\n",
       "  'EMC',\n",
       "  'EMC',\n",
       "  'EMC',\n",
       "  'PF6',\n",
       "  'PF6',\n",
       "  'PF6',\n",
       "  'PF6',\n",
       "  'PF6',\n",
       "  'PF6',\n",
       "  'PF6',\n",
       "  'PF6',\n",
       "  'PF6',\n",
       "  'PF6',\n",
       "  'PF6',\n",
       "  'PF6',\n",
       "  'PF6',\n",
       "  'PF6',\n",
       "  'PF6',\n",
       "  'PF6',\n",
       "  'PF6',\n",
       "  'PF6',\n",
       "  'PF6',\n",
       "  'PF6',\n",
       "  'PF6',\n",
       "  'PF6',\n",
       "  'PF6',\n",
       "  'PF6',\n",
       "  'PF6',\n",
       "  'PF6',\n",
       "  'PF6',\n",
       "  'PF6',\n",
       "  'PF6',\n",
       "  'PF6',\n",
       "  'PF6',\n",
       "  'PF6',\n",
       "  'PF6',\n",
       "  'PF6',\n",
       "  'PF6',\n",
       "  'PF6',\n",
       "  'PF6',\n",
       "  'PF6',\n",
       "  'PF6',\n",
       "  'PF6',\n",
       "  'PF6',\n",
       "  'PF6',\n",
       "  'PF6',\n",
       "  'PF6',\n",
       "  'PF6',\n",
       "  'PF6',\n",
       "  'PF6',\n",
       "  'PF6',\n",
       "  'PF6',\n",
       "  'PF6',\n",
       "  'PF6',\n",
       "  'PF6',\n",
       "  'PF6',\n",
       "  'PF6',\n",
       "  'PF6',\n",
       "  'PF6',\n",
       "  'PF6',\n",
       "  'PF6',\n",
       "  'PF6',\n",
       "  'PF6',\n",
       "  'PF6',\n",
       "  'PF6',\n",
       "  'PF6',\n",
       "  'PF6',\n",
       "  'PF6',\n",
       "  'PF6',\n",
       "  'PF6',\n",
       "  'PF6',\n",
       "  'PF6',\n",
       "  'PF6',\n",
       "  'PF6',\n",
       "  'PF6',\n",
       "  'PF6',\n",
       "  'PF6',\n",
       "  'PF6',\n",
       "  'PF6',\n",
       "  'PF6',\n",
       "  'PF6',\n",
       "  'PF6',\n",
       "  'PF6',\n",
       "  'PF6',\n",
       "  'PF6',\n",
       "  'PF6',\n",
       "  'PF6',\n",
       "  'PF6',\n",
       "  'PF6',\n",
       "  'PF6',\n",
       "  'PF6',\n",
       "  'PF6',\n",
       "  'PF6',\n",
       "  'PF6',\n",
       "  'PF6',\n",
       "  'PF6',\n",
       "  'PF6',\n",
       "  'PF6',\n",
       "  'PF6',\n",
       "  'PF6',\n",
       "  'PF6',\n",
       "  'PF6',\n",
       "  'PF6',\n",
       "  'PF6',\n",
       "  'PF6',\n",
       "  'PF6',\n",
       "  'PF6',\n",
       "  'PF6',\n",
       "  'PF6',\n",
       "  'PF6',\n",
       "  'PF6',\n",
       "  'PF6',\n",
       "  'PF6',\n",
       "  'PF6',\n",
       "  'PF6',\n",
       "  'PF6',\n",
       "  'PF6',\n",
       "  'Li',\n",
       "  'Li',\n",
       "  'Li',\n",
       "  'Li',\n",
       "  'Li',\n",
       "  'Li',\n",
       "  'Li',\n",
       "  'Li',\n",
       "  'Li',\n",
       "  'Li',\n",
       "  'Li',\n",
       "  'Li',\n",
       "  'Li',\n",
       "  'Li',\n",
       "  'Li',\n",
       "  'Li',\n",
       "  'Li',\n",
       "  'Li',\n",
       "  'Li',\n",
       "  'Li',\n",
       "  'Li',\n",
       "  'Li',\n",
       "  'Li',\n",
       "  'Li',\n",
       "  'Li',\n",
       "  'Li',\n",
       "  'Li',\n",
       "  'Li',\n",
       "  'Li',\n",
       "  'Li',\n",
       "  'Li',\n",
       "  'Li',\n",
       "  'Li',\n",
       "  'Li',\n",
       "  'Li',\n",
       "  'Li',\n",
       "  'Li',\n",
       "  'Li',\n",
       "  'Li',\n",
       "  'Li',\n",
       "  'Li',\n",
       "  'Li',\n",
       "  'Li',\n",
       "  'Li',\n",
       "  'Li',\n",
       "  'Li',\n",
       "  'Li',\n",
       "  'Li',\n",
       "  'Li',\n",
       "  'Li',\n",
       "  'Li',\n",
       "  'Li',\n",
       "  'Li',\n",
       "  'Li',\n",
       "  'Li',\n",
       "  'Li',\n",
       "  'Li',\n",
       "  'Li',\n",
       "  'Li',\n",
       "  'Li',\n",
       "  'Li',\n",
       "  'Li',\n",
       "  'Li',\n",
       "  'Li',\n",
       "  'Li',\n",
       "  'Li',\n",
       "  'Li',\n",
       "  'Li',\n",
       "  'Li',\n",
       "  'Li',\n",
       "  'Li',\n",
       "  'Li',\n",
       "  'Li',\n",
       "  'Li',\n",
       "  'Li',\n",
       "  'Li',\n",
       "  'Li',\n",
       "  'Li',\n",
       "  'Li',\n",
       "  'Li',\n",
       "  'Li',\n",
       "  'Li',\n",
       "  'Li',\n",
       "  'Li',\n",
       "  'Li',\n",
       "  'Li',\n",
       "  'Li',\n",
       "  'Li',\n",
       "  'Li',\n",
       "  'Li',\n",
       "  'Li',\n",
       "  'Li',\n",
       "  'Li',\n",
       "  'Li',\n",
       "  'Li',\n",
       "  'Li',\n",
       "  'Li',\n",
       "  'Li',\n",
       "  'Li',\n",
       "  'Li',\n",
       "  'Li',\n",
       "  'Li',\n",
       "  'Li',\n",
       "  'Li',\n",
       "  'Li',\n",
       "  'Li',\n",
       "  'Li',\n",
       "  'Li',\n",
       "  'Li',\n",
       "  'Li',\n",
       "  'Li',\n",
       "  'Li',\n",
       "  'Li',\n",
       "  'Li']}"
      ]
     },
     "execution_count": 14,
     "metadata": {},
     "output_type": "execute_result"
    }
   ],
   "source": [
    "complete_universe.projectDictionary"
   ]
  },
  {
   "cell_type": "markdown",
   "metadata": {},
   "source": [
    "## Handling the Ase Trajectory"
   ]
  },
  {
   "cell_type": "code",
   "execution_count": 4,
   "metadata": {},
   "outputs": [],
   "source": [
    "rcut_dict = {'H': 1.0, 'C': 1.0, 'O': 1.0, 'Li': 0.1, 'P': 1.0, 'F': 1.0}\n",
    "mol_names_list = ['EC', 'EMC', 'PF6', 'Li']"
   ]
  },
  {
   "cell_type": "markdown",
   "metadata": {},
   "source": [
    "The traj object is initialised in the same way as the Universe in the previous section.\n",
    "Once init it will create a universe automatically, so it requires already all information to be correct to function properly.\n",
    "\n",
    "We can select a custom `frameRange` (default is all frames) that will be stored for later uses."
   ]
  },
  {
   "cell_type": "code",
   "execution_count": 5,
   "metadata": {},
   "outputs": [],
   "source": [
    "project_dict = dict(\n",
    "    projectName = \"example_1_LiElectrolytes\",\n",
    "    trajPath = \"../data/traj_2.1_0-100-1.xyz\",\n",
    "    rcutCorrection = rcut_dict,\n",
    "    moleculeNames = mol_names_list,\n",
    "    # frameRange = (0,30,2)\n",
    ")"
   ]
  },
  {
   "cell_type": "code",
   "execution_count": 6,
   "metadata": {},
   "outputs": [
    {
     "name": "stdout",
     "output_type": "stream",
     "text": [
      "Gathering the Universe ...\n",
      "\n",
      "Total atoms: 8402\n",
      "Atom types: ['C' 'F' 'H' 'Li' 'O' 'P']\n",
      "\n",
      "rcut correction: {'H': 1.0, 'C': 1.0, 'O': 1.0, 'Li': 0.1, 'P': 1.0, 'F': 1.0}\n",
      "\n",
      "Searching for molecules in the system ...\n",
      "\n",
      "['EC', 'EMC', 'PF6', 'Li']\n",
      "Uniques molecules found: 4\n",
      "Molecules found: {'C3H4O3': 'EC', 'C4H8O3': 'EMC', 'F6P': 'PF6', 'Li': 'Li'}\n",
      "1.0898s\n",
      "\n",
      "Computing MolIDs ...\n",
      "1.0622s\n",
      "\n",
      "Computing MolSymbols ...\n",
      "Total numner of molecules: 777\n",
      "0.0516s\n",
      "\n",
      "<end>\n",
      "2.3322s\n",
      "\n"
     ]
    }
   ],
   "source": [
    "aseU = at.ASEtraj(**project_dict)"
   ]
  },
  {
   "cell_type": "code",
   "execution_count": 8,
   "metadata": {},
   "outputs": [
    {
     "name": "stdout",
     "output_type": "stream",
     "text": [
      "all\n"
     ]
    }
   ],
   "source": [
    "# default 'all'\n",
    "\n",
    "print(aseU.frameRange)"
   ]
  },
  {
   "cell_type": "markdown",
   "metadata": {},
   "source": [
    "The `frameRange` can be set separately or while calling a \"read\" trajectory property.\n",
    "If the stride is not set it automatically uses every 1 frames."
   ]
  },
  {
   "cell_type": "code",
   "execution_count": 9,
   "metadata": {},
   "outputs": [
    {
     "name": "stdout",
     "output_type": "stream",
     "text": [
      "(0, 10)\n"
     ]
    }
   ],
   "source": [
    "# changing outside operations\n",
    "\n",
    "aseU.frameRange = (0,10)\n",
    "print(aseU.frameRange)"
   ]
  },
  {
   "cell_type": "code",
   "execution_count": 10,
   "metadata": {},
   "outputs": [
    {
     "name": "stdout",
     "output_type": "stream",
     "text": [
      "Reading traj:\n",
      "Begin: 0 | End: 20 | Stride: 2\n",
      "0.1608s\n",
      "\n"
     ]
    }
   ],
   "source": [
    "# changing while reading\n",
    "\n",
    "ase_db = aseU.read(frameRange=(0,20,2), Zshift=None)"
   ]
  },
  {
   "cell_type": "markdown",
   "metadata": {},
   "source": [
    "### Operation that can be executed while reading a trajectory:"
   ]
  },
  {
   "cell_type": "markdown",
   "metadata": {},
   "source": [
    "### 1. Shifting some atoms Z numbers (of a same molecule)\n",
    "\n",
    "This can be usefull if we want to create dummy atoms to differentiate some identical atoms.\n",
    "Use case can be for using geometrical descriptor of atomic environmets.\n",
    "\n",
    "The property requires the specification of the molecule name and the Z numbers of the atoms belonging to that molecule that we want to shift."
   ]
  },
  {
   "cell_type": "code",
   "execution_count": 10,
   "metadata": {},
   "outputs": [],
   "source": [
    "zshift_tuple = ('EC',       # molecule name\n",
    "                [6,8])      # atoms Z numbers (es. Carbon & Oxigen)"
   ]
  },
  {
   "cell_type": "code",
   "execution_count": 11,
   "metadata": {},
   "outputs": [
    {
     "name": "stdout",
     "output_type": "stream",
     "text": [
      "Reading traj:\n",
      "Begin: 0 | End: 20 | Stride: 2\n"
     ]
    },
    {
     "name": "stderr",
     "output_type": "stream",
     "text": [
      "Applying Z shift: 100%|██████████| 10/10 [00:00<00:00, 55701.25it/s]"
     ]
    },
    {
     "name": "stdout",
     "output_type": "stream",
     "text": [
      "0.2946s\n",
      "\n"
     ]
    },
    {
     "name": "stderr",
     "output_type": "stream",
     "text": [
      "\n"
     ]
    }
   ],
   "source": [
    "ase_Zshifed_db = aseU.read(Zshift=zshift_tuple)"
   ]
  },
  {
   "cell_type": "markdown",
   "metadata": {},
   "source": [
    "Be carefull that the frame does not need to be set every time but it uses the last one set."
   ]
  },
  {
   "cell_type": "markdown",
   "metadata": {},
   "source": [
    "### 2. Center of mass of molecules\n",
    "\n",
    "It is possible to output the molecule-wise `COM=` trajectory by switching the bool parameter on `True` inside the read property.\n",
    "\n",
    "In the current state is fairly expensive, as in first read and then computes the COM for every molecule for every frame read."
   ]
  },
  {
   "cell_type": "code",
   "execution_count": 11,
   "metadata": {},
   "outputs": [
    {
     "name": "stdout",
     "output_type": "stream",
     "text": [
      "Reading traj:\n",
      "Begin: 0 | End: 50 | Stride: 2\n"
     ]
    },
    {
     "name": "stderr",
     "output_type": "stream",
     "text": [
      "Computing COM:: 100%|██████████| 25/25 [00:00<00:00, 25.34it/s]"
     ]
    },
    {
     "name": "stdout",
     "output_type": "stream",
     "text": [
      "1.3755s\n",
      "\n"
     ]
    },
    {
     "name": "stderr",
     "output_type": "stream",
     "text": [
      "\n"
     ]
    }
   ],
   "source": [
    "ase_com_db = aseU.read(frameRange=(0,50,2), \n",
    "                       COM=True)"
   ]
  },
  {
   "cell_type": "markdown",
   "metadata": {},
   "source": [
    "### 3. Unwrapping a trajectory\n",
    "\n",
    "It is possible to \"unwrap\" the coordinates of specific molecules using the unwrap utility in `phdtools.ASEtools.atomstools`"
   ]
  },
  {
   "cell_type": "code",
   "execution_count": 19,
   "metadata": {},
   "outputs": [],
   "source": [
    "import numpy as np\n",
    "from phdtools.ASEtools import atomstools"
   ]
  },
  {
   "cell_type": "markdown",
   "metadata": {},
   "source": [
    "The function requires a trajectory and the corresponding molecule symbols, from which we can choose the molecules to apply the unwrapping on.\n",
    "It is possible to choose amongst 3 types of unwrapping methods:\n",
    "`['heuristic', 'displacement', 'hybrid']`"
   ]
  },
  {
   "cell_type": "code",
   "execution_count": 13,
   "metadata": {},
   "outputs": [
    {
     "name": "stdout",
     "output_type": "stream",
     "text": [
      "Chosen method: Hybrid unwrapping.\n",
      "\n",
      "    \n",
      "\n"
     ]
    },
    {
     "name": "stderr",
     "output_type": "stream",
     "text": [
      "Unwrapping: Li: 100%|██████████| 114/114 [00:00<00:00, 3718.70it/s]"
     ]
    },
    {
     "name": "stdout",
     "output_type": "stream",
     "text": [
      "0.0344s\n",
      "\n"
     ]
    },
    {
     "name": "stderr",
     "output_type": "stream",
     "text": [
      "\n"
     ]
    }
   ],
   "source": [
    "unwrap_coordinates = atomstools.ase_mol_unwrap(ase_db=ase_com_db, \n",
    "                                               molecule_to_unwrap=['Li'], \n",
    "                                               molSymbols=aseU.molSym, \n",
    "                                               method='hybrid')"
   ]
  },
  {
   "cell_type": "markdown",
   "metadata": {},
   "source": [
    "The output will be a dictionary with keys the uniques types of molecule symbols and values a list of coordinates for each molecule that belongs to the same symbols (*i.e.*, in this example we have 114 Li-ions for 25 frames)"
   ]
  },
  {
   "cell_type": "code",
   "execution_count": 20,
   "metadata": {},
   "outputs": [
    {
     "name": "stdout",
     "output_type": "stream",
     "text": [
      "dict_keys(['Li'])\n",
      "(114, 25, 3)\n"
     ]
    }
   ],
   "source": [
    "print(unwrap_coordinates.keys())\n",
    "print(np.array(unwrap_coordinates['Li']).shape)"
   ]
  },
  {
   "cell_type": "code",
   "execution_count": null,
   "metadata": {},
   "outputs": [],
   "source": []
  }
 ],
 "metadata": {
  "kernelspec": {
   "display_name": "CambPy39",
   "language": "python",
   "name": "cambpy39"
  },
  "language_info": {
   "codemirror_mode": {
    "name": "ipython",
    "version": 3
   },
   "file_extension": ".py",
   "mimetype": "text/x-python",
   "name": "python",
   "nbconvert_exporter": "python",
   "pygments_lexer": "ipython3",
   "version": "3.9.17"
  },
  "orig_nbformat": 4
 },
 "nbformat": 4,
 "nbformat_minor": 2
}
