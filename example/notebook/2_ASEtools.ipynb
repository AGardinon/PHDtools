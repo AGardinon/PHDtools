{
 "cells": [
  {
   "cell_type": "code",
   "execution_count": 1,
   "metadata": {},
   "outputs": [],
   "source": [
    "# temporarly add to path for testing purposes before package creation\n",
    "import sys\n",
    "sys.path.append(\"../../\")"
   ]
  },
  {
   "cell_type": "code",
   "execution_count": 2,
   "metadata": {},
   "outputs": [],
   "source": [
    "import numpy as np\n",
    "from phdtools.ASEtools import asetools as at\n",
    "from phdtools.ASEtools import atomstools"
   ]
  },
  {
   "attachments": {},
   "cell_type": "markdown",
   "metadata": {},
   "source": [
    "# ASE tools for handling trajs"
   ]
  },
  {
   "cell_type": "code",
   "execution_count": 3,
   "metadata": {},
   "outputs": [
    {
     "name": "stdout",
     "output_type": "stream",
     "text": [
      "traj_2.1_0-100-1.xyz\n"
     ]
    }
   ],
   "source": [
    "!ls ../data/"
   ]
  },
  {
   "cell_type": "markdown",
   "metadata": {},
   "source": [
    "We will use this small trajectory of Li-ion electrolytes as a tutorial."
   ]
  },
  {
   "cell_type": "code",
   "execution_count": 4,
   "metadata": {},
   "outputs": [],
   "source": [
    "# init the project name.\n",
    "\n",
    "project_dict = dict(\n",
    "    projectName = \"example_1_LiElectrolytes\",\n",
    "    trajPath = \"../data/traj_2.1_0-100-1.xyz\",\n",
    ")"
   ]
  },
  {
   "cell_type": "markdown",
   "metadata": {},
   "source": [
    "## Creation of the ASE _universe_"
   ]
  },
  {
   "cell_type": "code",
   "execution_count": 5,
   "metadata": {},
   "outputs": [
    {
     "name": "stdout",
     "output_type": "stream",
     "text": [
      "Gathering the Universe ...\n",
      "\n"
     ]
    },
    {
     "name": "stdout",
     "output_type": "stream",
     "text": [
      "Total atoms: 8402\n",
      "Atom types: ['C' 'F' 'H' 'Li' 'O' 'P']\n",
      "\n",
      "!!! Warning !!!\n",
      "`rcutCorrection` not set, default values will be used!\n",
      "rcutCorrection = {'C': 1.0, 'F': 1.0, 'H': 1.0, 'Li': 1.0, 'O': 1.0, 'P': 1.0}\n",
      "\n",
      "0.2868s\n"
     ]
    }
   ],
   "source": [
    "# init the Universe\n",
    "\n",
    "aseU = at.Universe(**project_dict)"
   ]
  },
  {
   "cell_type": "code",
   "execution_count": 6,
   "metadata": {},
   "outputs": [
    {
     "name": "stdout",
     "output_type": "stream",
     "text": [
      "Default: {'C': 1.0, 'F': 1.0, 'H': 1.0, 'Li': 1.0, 'O': 1.0, 'P': 1.0}\n"
     ]
    }
   ],
   "source": [
    "# this property refers on how the molecules will be \n",
    "# automatically identified by functions of the pkg.\n",
    "\n",
    "print(f\"Default: {aseU.rcutCorrection}\")"
   ]
  },
  {
   "cell_type": "code",
   "execution_count": 7,
   "metadata": {},
   "outputs": [
    {
     "name": "stdout",
     "output_type": "stream",
     "text": [
      "Updated rcutCorrection = {'H': 1.0, 'C': 1.0, 'O': 1.0, 'Li': 0.1, 'P': 1.0, 'F': 1.0}\n",
      "\n",
      "Modified: {'H': 1.0, 'C': 1.0, 'O': 1.0, 'Li': 0.1, 'P': 1.0, 'F': 1.0}\n"
     ]
    }
   ],
   "source": [
    "# In this case we need to apply a correction, since the Li-ions and \n",
    "# the molecules in their SS will be identified as singular clusters.\n",
    "\n",
    "rcut_dict = {'H': 1.0, 'C': 1.0, 'O': 1.0, 'Li': 0.1, 'P': 1.0, 'F': 1.0}\n",
    "\n",
    "# The defaul obj can be changed by the function\n",
    "\n",
    "aseU.set_rcut_correction(rcut_dict=rcut_dict)\n",
    "print(f\"Modified: {aseU.rcutCorrection}\")"
   ]
  },
  {
   "cell_type": "code",
   "execution_count": 8,
   "metadata": {},
   "outputs": [
    {
     "name": "stdout",
     "output_type": "stream",
     "text": [
      "Molecules found: {'mol1': 'C3H4O3', 'mol2': 'C4H8O3', 'mol3': 'F6P', 'mol4': 'Li'}\n",
      "\n",
      "1.7085s\n",
      "{'mol1': 'C3H4O3', 'mol2': 'C4H8O3', 'mol3': 'F6P', 'mol4': 'Li'}\n"
     ]
    }
   ],
   "source": [
    "# obtain the info about the molecules in the system\n",
    "# !!! it is based on the rcut correction !!!\n",
    "\n",
    "aseU.find_molecs()\n",
    "\n",
    "# The same information can be accessed by the following command\n",
    "# once they are identified\n",
    "\n",
    "print(aseU.mol_dict)"
   ]
  },
  {
   "cell_type": "code",
   "execution_count": 9,
   "metadata": {},
   "outputs": [
    {
     "name": "stdout",
     "output_type": "stream",
     "text": [
      "Updated: {'EC': 'C3H4O3', 'EMC': 'C4H8O3', 'PF6': 'F6P', 'Li': 'Li'}\n"
     ]
    }
   ],
   "source": [
    "# OPTIONAL\n",
    "# Since we know how the system is composed we can also\n",
    "# change the dictionary with the actual names of the mols\n",
    "\n",
    "mol_names_list = ['EC', 'EMC', 'PF6', 'Li']\n",
    "\n",
    "aseU.set_mol_names(mol_name_list=mol_names_list)\n",
    "\n",
    "# the updated dictionary can be inspected as before\n",
    "\n",
    "print(f\"Updated: {aseU.mol_dict}\")"
   ]
  },
  {
   "cell_type": "code",
   "execution_count": null,
   "metadata": {},
   "outputs": [],
   "source": []
  }
 ],
 "metadata": {
  "kernelspec": {
   "display_name": "CambPy39",
   "language": "python",
   "name": "cambpy39"
  },
  "language_info": {
   "codemirror_mode": {
    "name": "ipython",
    "version": 3
   },
   "file_extension": ".py",
   "mimetype": "text/x-python",
   "name": "python",
   "nbconvert_exporter": "python",
   "pygments_lexer": "ipython3",
   "version": "3.9.7"
  },
  "orig_nbformat": 4
 },
 "nbformat": 4,
 "nbformat_minor": 2
}
