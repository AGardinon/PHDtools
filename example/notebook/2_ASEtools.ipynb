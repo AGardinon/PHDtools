{
 "cells": [
  {
   "cell_type": "code",
   "execution_count": 1,
   "metadata": {},
   "outputs": [],
   "source": [
    "# temporarly add to path for testing purposes before package creation\n",
    "import sys\n",
    "sys.path.append(\"../../\")"
   ]
  },
  {
   "cell_type": "code",
   "execution_count": 2,
   "metadata": {},
   "outputs": [],
   "source": [
    "import numpy as np\n",
    "import ase\n",
    "from phdtools.ASEtools import asetools as at\n",
    "# from phdtools.ASEtools import atomstools"
   ]
  },
  {
   "attachments": {},
   "cell_type": "markdown",
   "metadata": {},
   "source": [
    "# ASE tools for handling trajs"
   ]
  },
  {
   "cell_type": "markdown",
   "metadata": {},
   "source": [
    "We will use this small trajectory of Li-ion electrolytes as a tutorial.\n",
    "This example showcases some key functionalities of the pkg."
   ]
  },
  {
   "cell_type": "code",
   "execution_count": 3,
   "metadata": {},
   "outputs": [
    {
     "name": "stdout",
     "output_type": "stream",
     "text": [
      "traj_2.1_0-100-1.xyz\n"
     ]
    }
   ],
   "source": [
    "!ls ../data/"
   ]
  },
  {
   "cell_type": "markdown",
   "metadata": {},
   "source": [
    "### _Blind_ Universe definition\n",
    "\n",
    "The _blind_ means that we do not set any project specific variables, but only the minimum required to init the ASE Universe."
   ]
  },
  {
   "cell_type": "code",
   "execution_count": 4,
   "metadata": {},
   "outputs": [],
   "source": [
    "blind_project_dict = dict(\n",
    "    projectName = \"example_1_LiElectrolytes\",\n",
    "    trajPath = \"../data/traj_2.1_0-100-1.xyz\",\n",
    ")"
   ]
  },
  {
   "cell_type": "code",
   "execution_count": 5,
   "metadata": {},
   "outputs": [
    {
     "name": "stdout",
     "output_type": "stream",
     "text": [
      "Gathering the Universe ...\n",
      "\n"
     ]
    },
    {
     "name": "stdout",
     "output_type": "stream",
     "text": [
      "Total atoms: 8402\n",
      "Atom types: ['C' 'F' 'H' 'Li' 'O' 'P']\n",
      "\n",
      "!!! Warning: `rcutCorrection` not set !!!\n",
      "Default values will be used, this might cause artifacts in the molecules detection.\n",
      "rcutCorrection = {'C': 1.0, 'F': 1.0, 'H': 1.0, 'Li': 1.0, 'O': 1.0, 'P': 1.0}\n",
      "\n",
      "Searching for molecules in the system ...\n",
      "\n",
      "Uniques molecules found: 29\n",
      "Molecules found: {'C10H16F6LiO9P': 'mol1', 'C11H20F6LiO9P': 'mol2', 'C11H20LiO9': 'mol3', 'C12H24F6LiO9P': 'mol4', 'C13H20LiO12': 'mol5', 'C14H24F12Li2O12P2': 'mol6', 'C14H24F18Li2O12P3': 'mol7', 'C14H24F6LiO12P': 'mol8', 'C14H24LiO12': 'mol9', 'C15H28F12Li2O12P2': 'mol10', 'C15H28F6LiO12P': 'mol11', 'C15H28LiO12': 'mol12', 'C16H32F12Li2O12P2': 'mol13', 'C16H32LiO12': 'mol14', 'C18H32F12Li2O15P2': 'mol15', 'C19H36F12Li2O15P2': 'mol16', 'C20H40F12Li2O15P2': 'mol17', 'C20H40F18Li2O15P3': 'mol18', 'C20H40F24Li3O15P4': 'mol19', 'C21H36F6Li2O18P': 'mol20', 'C22H40F6Li2O18P': 'mol21', 'C23H44F6Li2O18P': 'mol22', 'C24H48F6Li2O18P': 'mol23', 'C26H48F18Li3O21P3': 'mol24', 'C3H4O3': 'mol25', 'C4H8O3': 'mol26', 'C7H12F6LiO6P': 'mol27', 'C8H16F12LiO6P2': 'mol28', 'F6P': 'mol29'}\n",
      "1.4308s\n",
      "\n",
      "Computing MolIDs ...\n",
      "1.3267s\n",
      "\n",
      "Computing MolSymbols ...\n",
      "Total numner of molecules: 322\n",
      "0.0219s\n",
      "\n",
      "<end>\n",
      "2.9719s\n",
      "\n"
     ]
    }
   ],
   "source": [
    "# init the universe\n",
    "\n",
    "blind_universe = at.Universe(**blind_project_dict)"
   ]
  },
  {
   "cell_type": "markdown",
   "metadata": {},
   "source": [
    "In this case since we did not set the `rcutCorrection` it caused some artifacts in the molecule detection: some solevation shells are considered as whole molecules.\n",
    "This is not convenient if we want to follow the Li during the trajectory, as the definition of the molecules changes constantly during the atoms evolution."
   ]
  },
  {
   "cell_type": "code",
   "execution_count": 6,
   "metadata": {},
   "outputs": [
    {
     "name": "stdout",
     "output_type": "stream",
     "text": [
      "Default: {'C': 1.0, 'F': 1.0, 'H': 1.0, 'Li': 1.0, 'O': 1.0, 'P': 1.0}\n"
     ]
    }
   ],
   "source": [
    "print(f\"Default: {blind_universe.rcutCorrection}\")"
   ]
  },
  {
   "cell_type": "markdown",
   "metadata": {},
   "source": [
    "To solve the problem we need to define a tailored `rcutCorrection` and repeat the init of the Universe."
   ]
  },
  {
   "cell_type": "code",
   "execution_count": 7,
   "metadata": {},
   "outputs": [],
   "source": [
    "rcut_dict = {'H': 1.0, 'C': 1.0, 'O': 1.0, 'Li': 0.1, 'P': 1.0, 'F': 1.0}"
   ]
  },
  {
   "cell_type": "code",
   "execution_count": 8,
   "metadata": {},
   "outputs": [
    {
     "name": "stdout",
     "output_type": "stream",
     "text": [
      "Updated rcutCorrection = {'H': 1.0, 'C': 1.0, 'O': 1.0, 'Li': 0.1, 'P': 1.0, 'F': 1.0}\n",
      "\n",
      "Modified: {'H': 1.0, 'C': 1.0, 'O': 1.0, 'Li': 0.1, 'P': 1.0, 'F': 1.0}\n"
     ]
    }
   ],
   "source": [
    "blind_universe.set_rcut_correction(rcut_dict=rcut_dict)\n",
    "print(f\"Modified: {blind_universe.rcutCorrection}\")"
   ]
  },
  {
   "cell_type": "code",
   "execution_count": 9,
   "metadata": {},
   "outputs": [
    {
     "name": "stdout",
     "output_type": "stream",
     "text": [
      "Uniques molecules found: 4\n",
      "Molecules found: {'C3H4O3': 'mol1', 'C4H8O3': 'mol2', 'F6P': 'mol3', 'Li': 'mol4'}\n",
      "1.5328s\n",
      "\n",
      "Default molecule names: ['mol1', 'mol2', 'mol3', 'mol4']\n"
     ]
    }
   ],
   "source": [
    "blind_universe.find_molecs(mol_name=None)\n",
    "print(f\"Default molecule names: {blind_universe.moleculeNames}\")"
   ]
  },
  {
   "cell_type": "markdown",
   "metadata": {},
   "source": [
    "By default `find_molecs()` uses standard numbered names \"molXXX\" to address the molecules, but these can be specified as well."
   ]
  },
  {
   "cell_type": "code",
   "execution_count": 10,
   "metadata": {},
   "outputs": [
    {
     "name": "stdout",
     "output_type": "stream",
     "text": [
      "Renamed molecules: {'C3H4O3': 'EC', 'C4H8O3': 'EMC', 'F6P': 'PF6', 'Li': 'Li'}\n",
      "['EC', 'EMC', 'PF6', 'Li']\n"
     ]
    }
   ],
   "source": [
    "mol_names_list = ['EC', 'EMC', 'PF6', 'Li']\n",
    "\n",
    "blind_universe.set_mol_names(mol_name=mol_names_list)\n",
    "print(f\"Renamed molecules: {blind_universe.moleculeFormulas}\\n\"\n",
    "      f\"{blind_universe.moleculeNames}\")"
   ]
  },
  {
   "cell_type": "markdown",
   "metadata": {},
   "source": [
    "Alternatively it is possible to define them directly in the `find_molecs()` function."
   ]
  },
  {
   "cell_type": "code",
   "execution_count": 11,
   "metadata": {},
   "outputs": [
    {
     "name": "stdout",
     "output_type": "stream",
     "text": [
      "Uniques molecules found: 4\n",
      "Molecules found: {'C3H4O3': 'EC', 'C4H8O3': 'EMC', 'F6P': 'PF6', 'Li': 'Li'}\n",
      "1.4768s\n",
      "\n",
      "Molecules names: {'C3H4O3': 'EC', 'C4H8O3': 'EMC', 'F6P': 'PF6', 'Li': 'Li'}\n",
      "['EC', 'EMC', 'PF6', 'Li']\n"
     ]
    }
   ],
   "source": [
    "blind_universe.find_molecs(mol_name=mol_names_list)\n",
    "print(f\"Molecules names: {blind_universe.moleculeFormulas}\\n\"\n",
    "      f\"{blind_universe.moleculeNames}\")"
   ]
  },
  {
   "cell_type": "markdown",
   "metadata": {},
   "source": [
    "### _Complete_ Universe definition\n",
    "\n",
    "The _complete_ means that we do set any project specific variables when init the ASE Universe."
   ]
  },
  {
   "cell_type": "code",
   "execution_count": null,
   "metadata": {},
   "outputs": [],
   "source": [
    "complete_project_dict = dict(\n",
    "    projectName = \"example_1_LiElectrolytes\",\n",
    "    trajPath = \"../data/traj_2.1_0-100-1.xyz\",\n",
    "    rcutCorrection = rcut_dict\n",
    "    moleculeNames = mol_names_list\n",
    ")"
   ]
  },
  {
   "cell_type": "code",
   "execution_count": null,
   "metadata": {},
   "outputs": [],
   "source": []
  },
  {
   "cell_type": "markdown",
   "metadata": {},
   "source": [
    "## Creation of the ASE _universe_"
   ]
  },
  {
   "cell_type": "code",
   "execution_count": null,
   "metadata": {},
   "outputs": [
    {
     "name": "stdout",
     "output_type": "stream",
     "text": [
      "Gathering the Universe ...\n",
      "\n",
      "Total atoms: 8402\n",
      "Atom types: ['C' 'F' 'H' 'Li' 'O' 'P']\n",
      "\n",
      "!!! Warning !!!\n",
      "`rcutCorrection` not set, default values will be used!\n",
      "rcutCorrection = {'C': 1.0, 'F': 1.0, 'H': 1.0, 'Li': 1.0, 'O': 1.0, 'P': 1.0}\n",
      "0.1394s\n",
      "\n"
     ]
    }
   ],
   "source": [
    "# init the Universe\n",
    "\n",
    "aseU = at.Universe(**project_dict)"
   ]
  },
  {
   "cell_type": "code",
   "execution_count": null,
   "metadata": {},
   "outputs": [
    {
     "name": "stdout",
     "output_type": "stream",
     "text": [
      "Default: {'C': 1.0, 'F': 1.0, 'H': 1.0, 'Li': 1.0, 'O': 1.0, 'P': 1.0}\n"
     ]
    }
   ],
   "source": [
    "# this property refers on how the molecules will be \n",
    "# automatically identified by functions of the pkg.\n",
    "\n",
    "print(f\"Default: {aseU.rcutCorrection}\")"
   ]
  },
  {
   "cell_type": "code",
   "execution_count": null,
   "metadata": {},
   "outputs": [
    {
     "name": "stdout",
     "output_type": "stream",
     "text": [
      "Updated rcutCorrection = {'H': 1.0, 'C': 1.0, 'O': 1.0, 'Li': 0.1, 'P': 1.0, 'F': 1.0}\n",
      "\n",
      "Modified: {'H': 1.0, 'C': 1.0, 'O': 1.0, 'Li': 0.1, 'P': 1.0, 'F': 1.0}\n"
     ]
    }
   ],
   "source": [
    "# In this case we need to apply a correction, since the Li-ions and \n",
    "# the molecules in their SS will be identified as singular clusters.\n",
    "\n",
    "rcut_dict = {'H': 1.0, 'C': 1.0, 'O': 1.0, 'Li': 0.1, 'P': 1.0, 'F': 1.0}\n",
    "\n",
    "# The defaul obj can be changed by the function\n",
    "\n",
    "aseU.set_rcut_correction(rcut_dict=rcut_dict)\n",
    "print(f\"Modified: {aseU.rcutCorrection}\")"
   ]
  },
  {
   "cell_type": "code",
   "execution_count": null,
   "metadata": {},
   "outputs": [
    {
     "name": "stdout",
     "output_type": "stream",
     "text": [
      "Uniques molecules found: 4\n",
      "Molecules found: {'C3H4O3': 'mol1', 'C4H8O3': 'mol2', 'F6P': 'mol3', 'Li': 'mol4'}\n",
      "1.6360s\n",
      "\n",
      "{'C3H4O3': 'mol1', 'C4H8O3': 'mol2', 'F6P': 'mol3', 'Li': 'mol4'}\n"
     ]
    }
   ],
   "source": [
    "# obtain the info about the molecules in the system\n",
    "# !!! it is based on the rcut correction !!!\n",
    "\n",
    "aseU.find_molecs()\n",
    "\n",
    "# The same information can be accessed by the following command\n",
    "# once they are identified\n",
    "\n",
    "print(aseU.mol_dict)"
   ]
  },
  {
   "cell_type": "code",
   "execution_count": null,
   "metadata": {},
   "outputs": [
    {
     "name": "stdout",
     "output_type": "stream",
     "text": [
      "Updated: {'C3H4O3': 'EC', 'C4H8O3': 'EMC', 'F6P': 'PF6', 'Li': 'Li'}\n"
     ]
    }
   ],
   "source": [
    "# OPTIONAL\n",
    "# Since we know how the system is composed we can also\n",
    "# change the dictionary with the actual names of the mols\n",
    "\n",
    "mol_names_list = ['EC', 'EMC', 'PF6', 'Li']\n",
    "aseU.set_mol_names(mol_name=mol_names_list)\n",
    "\n",
    "# the updated dictionary can be inspected as before\n",
    "\n",
    "print(f\"Updated: {aseU.mol_dict}\")"
   ]
  },
  {
   "cell_type": "code",
   "execution_count": null,
   "metadata": {},
   "outputs": [
    {
     "name": "stdout",
     "output_type": "stream",
     "text": [
      "Uniques molecules found: 4\n",
      "Molecules found: {'C3H4O3': 'EC', 'C4H8O3': 'EMC', 'F6P': 'PF6', 'Li': 'Li'}\n",
      "1.5396s\n",
      "\n"
     ]
    }
   ],
   "source": [
    "# alternatively it is possible to define everything in the first step\n",
    "\n",
    "aseU.find_molecs(mol_name=mol_names_list)"
   ]
  },
  {
   "cell_type": "code",
   "execution_count": null,
   "metadata": {},
   "outputs": [
    {
     "name": "stdout",
     "output_type": "stream",
     "text": [
      "Computing MolIDs\t...\n",
      "1.4299s\n",
      "\n",
      "Computing MolSymbols\t...\n",
      "Total numner of molecules: 777\n",
      "0.0490s\n",
      "\n"
     ]
    }
   ],
   "source": [
    "aseU.get_mol_info"
   ]
  },
  {
   "cell_type": "code",
   "execution_count": null,
   "metadata": {},
   "outputs": [],
   "source": []
  },
  {
   "cell_type": "markdown",
   "metadata": {},
   "source": [
    "## Handling the Ase Trajectory"
   ]
  },
  {
   "cell_type": "code",
   "execution_count": null,
   "metadata": {},
   "outputs": [],
   "source": []
  },
  {
   "cell_type": "code",
   "execution_count": null,
   "metadata": {},
   "outputs": [],
   "source": []
  }
 ],
 "metadata": {
  "kernelspec": {
   "display_name": "CambPy39",
   "language": "python",
   "name": "cambpy39"
  },
  "language_info": {
   "codemirror_mode": {
    "name": "ipython",
    "version": 3
   },
   "file_extension": ".py",
   "mimetype": "text/x-python",
   "name": "python",
   "nbconvert_exporter": "python",
   "pygments_lexer": "ipython3",
   "version": "3.9.7"
  },
  "orig_nbformat": 4
 },
 "nbformat": 4,
 "nbformat_minor": 2
}
