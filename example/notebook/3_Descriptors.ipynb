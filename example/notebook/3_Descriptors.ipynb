{
 "cells": [
  {
   "attachments": {},
   "cell_type": "markdown",
   "metadata": {},
   "source": [
    "# Descriptors"
   ]
  },
  {
   "cell_type": "markdown",
   "metadata": {},
   "source": []
  },
  {
   "cell_type": "markdown",
   "metadata": {},
   "source": [
    "## Quip SOAP & _turbo_ SOAP"
   ]
  },
  {
   "cell_type": "code",
   "execution_count": 2,
   "metadata": {},
   "outputs": [],
   "source": [
    "import phdtools.descriptors.quip as qt\n",
    "from pprint import pprint\n",
    "from phdtools.computes.misc import parse_config"
   ]
  },
  {
   "cell_type": "markdown",
   "metadata": {},
   "source": [
    "### 1. Parsing the input files\n",
    "\n",
    "The full description of the input files and all the quippy based descriptors are available in the official doc page of quippy.\n",
    "\n",
    "`QUIPtools` contains functionalities to help read and parse the necessary information.\n",
    "The quippy tool needs a specific formatted string of information to function correctly, all the information are read from a `.json` file or a `dict()` variable."
   ]
  },
  {
   "cell_type": "code",
   "execution_count": 3,
   "metadata": {},
   "outputs": [],
   "source": [
    "json_quip_soap = '../data/quip_soap.json'\n",
    "json_quip_turbo = '../data/quip_soap_turbo.json'"
   ]
  },
  {
   "cell_type": "markdown",
   "metadata": {},
   "source": [
    "We can get the SOAP and turbo SOAP strings from .json files directly:"
   ]
  },
  {
   "cell_type": "code",
   "execution_count": 4,
   "metadata": {},
   "outputs": [
    {
     "data": {
      "text/plain": [
       "'soap cutoff=6.0 cutoff_transition_width=0.5 n_max=8 l_max=4 atom_sigma=0.5 n_Z=1 Z={3} n_species=8 species_Z={1 3 6 8 9 15 21 23} '"
      ]
     },
     "execution_count": 4,
     "metadata": {},
     "output_type": "execute_result"
    }
   ],
   "source": [
    "qt.QUIPtools(method='soap',\n",
    "             descr_dict=json_quip_soap).getString"
   ]
  },
  {
   "cell_type": "code",
   "execution_count": 5,
   "metadata": {},
   "outputs": [
    {
     "data": {
      "text/plain": [
       "\"soap_turbo species_Z={1 3 6 8 9 15 21 23} l_max=4 n_species=8 rcut_hard=4.5 rcut_soft=3.5 basis=poly3gauss scaling_mode=polynomial radial_enhancement=1 multi={'alpha_max': 8, 'atom_sigma_r': 0.2, 'atom_sigma_t': 0.2, 'atom_sigma_r_scaling': 0.1, 'atom_sigma_t_scaling': 0.1, 'amplitude_scaling': 1.0, 'central_weight': 1.0} central_index=2 alpha_max={8 8 8 8 8 8 8 8} atom_sigma_r={0.2 0.2 0.2 0.2 0.2 0.2 0.2 0.2} atom_sigma_t={0.2 0.2 0.2 0.2 0.2 0.2 0.2 0.2} atom_sigma_r_scaling={0.1 0.1 0.1 0.1 0.1 0.1 0.1 0.1} atom_sigma_t_scaling={0.1 0.1 0.1 0.1 0.1 0.1 0.1 0.1} amplitude_scaling={1.0 1.0 1.0 1.0 1.0 1.0 1.0 1.0} central_weight={1.0 1.0 1.0 1.0 1.0 1.0 1.0 1.0}  \""
      ]
     },
     "execution_count": 5,
     "metadata": {},
     "output_type": "execute_result"
    }
   ],
   "source": [
    "qt.QUIPtools(method='soap_turbo',\n",
    "             descr_dict=json_quip_turbo).getString"
   ]
  },
  {
   "cell_type": "markdown",
   "metadata": {},
   "source": [
    "Alternatively, it is possible to work directly with `dict()` objects."
   ]
  },
  {
   "cell_type": "code",
   "execution_count": 6,
   "metadata": {},
   "outputs": [
    {
     "name": "stdout",
     "output_type": "stream",
     "text": [
      "{'Z': [3],\n",
      " 'atom_sigma': 0.5,\n",
      " 'cutoff': 6.0,\n",
      " 'cutoff_transition_width': 0.5,\n",
      " 'l_max': 4,\n",
      " 'n_Z': 1,\n",
      " 'n_max': 8,\n",
      " 'n_species': 8,\n",
      " 'species_Z': [1, 3, 6, 8, 9, 15, 21, 23]}\n"
     ]
    }
   ],
   "source": [
    "soap_dict = parse_config(filename=json_quip_soap)\n",
    "pprint(soap_dict)"
   ]
  },
  {
   "cell_type": "markdown",
   "metadata": {},
   "source": [
    "We can init the parser object and define in a later stage all the information required to parse different strings."
   ]
  },
  {
   "cell_type": "code",
   "execution_count": 7,
   "metadata": {},
   "outputs": [
    {
     "name": "stdout",
     "output_type": "stream",
     "text": [
      "!!! Warning.\n",
      "Descriptor dictionary not set.\n",
      "\n",
      "Descriptor dictionary: None\n"
     ]
    }
   ],
   "source": [
    "quipParser = qt.QUIPtools(method='soap')\n",
    "print(f\"Descriptor dictionary: {quipParser.descriptorDict}\")"
   ]
  },
  {
   "cell_type": "markdown",
   "metadata": {},
   "source": [
    "In this way we can change and recreate the string with updated parameters"
   ]
  },
  {
   "cell_type": "code",
   "execution_count": 8,
   "metadata": {},
   "outputs": [
    {
     "name": "stdout",
     "output_type": "stream",
     "text": [
      "Descriptor dictionary:\n",
      "{'Z': [3],\n",
      " 'atom_sigma': 0.5,\n",
      " 'cutoff': 6.0,\n",
      " 'cutoff_transition_width': 0.5,\n",
      " 'l_max': 4,\n",
      " 'n_Z': 1,\n",
      " 'n_max': 8,\n",
      " 'n_species': 8,\n",
      " 'species_Z': [1, 3, 6, 8, 9, 15, 21, 23]}\n"
     ]
    }
   ],
   "source": [
    "quipParser.descriptorDict = soap_dict\n",
    "print(f\"Descriptor dictionary:\")\n",
    "pprint(quipParser.descriptorDict)"
   ]
  },
  {
   "cell_type": "markdown",
   "metadata": {},
   "source": [
    "### 2. Computing the descriptor\n",
    "\n",
    "In order to compute the descriptor we need a trajectory.\n",
    "The trajectory prepared using the tools explained in the previous notebook."
   ]
  },
  {
   "cell_type": "code",
   "execution_count": 9,
   "metadata": {},
   "outputs": [],
   "source": [
    "from phdtools.ASEtools import asetools as at"
   ]
  },
  {
   "cell_type": "code",
   "execution_count": 10,
   "metadata": {},
   "outputs": [],
   "source": [
    "rcut_dict = {'H': 1.0, 'C': 1.0, 'O': 1.0, 'Li': 0.1, 'P': 1.0, 'F': 1.0}\n",
    "mol_names_list = ['EC', 'EMC', 'PF6', 'Li']"
   ]
  },
  {
   "cell_type": "code",
   "execution_count": 11,
   "metadata": {},
   "outputs": [],
   "source": [
    "li_ions_example_dict = dict(\n",
    "    projectName = \"example_1_LiElectrolytes\",\n",
    "    trajPath = \"../data/traj_2.1_0-100-1.xyz\",\n",
    "    rcutCorrection = rcut_dict,\n",
    "    moleculeNames = mol_names_list,\n",
    "    frameRange = (0,30,2)\n",
    ")"
   ]
  },
  {
   "cell_type": "code",
   "execution_count": 12,
   "metadata": {},
   "outputs": [],
   "source": [
    "zshift_tuple = ('EC', [6,8])"
   ]
  },
  {
   "cell_type": "code",
   "execution_count": 13,
   "metadata": {},
   "outputs": [
    {
     "name": "stdout",
     "output_type": "stream",
     "text": [
      "Gathering the Universe ...\n",
      "\n",
      "Total atoms: 8402\n",
      "Atom types: ['C' 'F' 'H' 'Li' 'O' 'P']\n",
      "\n",
      "rcut correction: {'H': 1.0, 'C': 1.0, 'O': 1.0, 'Li': 0.1, 'P': 1.0, 'F': 1.0}\n",
      "\n",
      "Searching for molecules in the system ...\n",
      "\n",
      "['EC', 'EMC', 'PF6', 'Li']\n"
     ]
    },
    {
     "name": "stdout",
     "output_type": "stream",
     "text": [
      "Uniques molecules found: 4\n",
      "Molecules found: {'C3H4O3': 'EC', 'C4H8O3': 'EMC', 'F6P': 'PF6', 'Li': 'Li'}\n",
      "1.7427s\n",
      "\n",
      "Computing MolIDs ...\n",
      "1.4101s\n",
      "\n",
      "Computing MolSymbols ...\n",
      "Total numner of molecules: 777\n",
      "0.0454s\n",
      "\n",
      "<end>\n",
      "3.3802s\n",
      "\n",
      "Reading traj:\n",
      "Begin: 0 | End: 30 | Stride: 2\n"
     ]
    },
    {
     "name": "stderr",
     "output_type": "stream",
     "text": [
      "Applying Z shift: 100%|██████████| 15/15 [00:00<00:00, 20964.53it/s]"
     ]
    },
    {
     "name": "stdout",
     "output_type": "stream",
     "text": [
      "0.3832s\n",
      "\n"
     ]
    },
    {
     "name": "stderr",
     "output_type": "stream",
     "text": [
      "\n"
     ]
    }
   ],
   "source": [
    "ase_db = at.ASEtraj(**li_ions_example_dict).read(Zshift=zshift_tuple)"
   ]
  },
  {
   "cell_type": "markdown",
   "metadata": {},
   "source": [
    "Assuming that we already know useful parameters we can proceed by computing the descriptor."
   ]
  },
  {
   "cell_type": "code",
   "execution_count": 14,
   "metadata": {},
   "outputs": [
    {
     "name": "stdout",
     "output_type": "stream",
     "text": [
      "Computing quippy soap ...\n",
      "6.7847s\n",
      "\n"
     ]
    }
   ],
   "source": [
    "soap_db = qt.QUIP(method='soap', \n",
    "                  descr_dict=json_quip_soap).fit(ase_db=ase_db)"
   ]
  },
  {
   "cell_type": "code",
   "execution_count": 15,
   "metadata": {},
   "outputs": [
    {
     "name": "stdout",
     "output_type": "stream",
     "text": [
      "15 (114, 10401)\n"
     ]
    }
   ],
   "source": [
    "print(len(soap_db), soap_db[0].shape)"
   ]
  },
  {
   "cell_type": "code",
   "execution_count": null,
   "metadata": {},
   "outputs": [],
   "source": []
  }
 ],
 "metadata": {
  "kernelspec": {
   "display_name": "CambPy39",
   "language": "python",
   "name": "cambpy39"
  },
  "language_info": {
   "codemirror_mode": {
    "name": "ipython",
    "version": 3
   },
   "file_extension": ".py",
   "mimetype": "text/x-python",
   "name": "python",
   "nbconvert_exporter": "python",
   "pygments_lexer": "ipython3",
   "version": "3.9.17"
  },
  "orig_nbformat": 4
 },
 "nbformat": 4,
 "nbformat_minor": 2
}
